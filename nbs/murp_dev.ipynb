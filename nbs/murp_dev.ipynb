{
 "cells": [
  {
   "cell_type": "markdown",
   "id": "6016b7b0-9cb4-4479-b75b-72077887f56a",
   "metadata": {},
   "source": [
    "# Figuring out MuRP"
   ]
  },
  {
   "cell_type": "markdown",
   "id": "40ea704a-7c45-4c1a-a485-17d0981de855",
   "metadata": {},
   "source": [
    "To do: \n",
    "- make a testing hyp3 dataset\n",
    "- update cropping function to rename metadata\n",
    "- implement zebker algorithm"
   ]
  },
  {
   "cell_type": "code",
   "execution_count": 1,
   "id": "375f1fd6-1c9d-45fc-8aec-0e96a5d02cbc",
   "metadata": {},
   "outputs": [],
   "source": [
    "from glob import glob\n",
    "import xarray as xr\n",
    "import rasterio as rio\n",
    "import rioxarray\n",
    "import os"
   ]
  },
  {
   "cell_type": "code",
   "execution_count": 11,
   "id": "754507b8-93d9-4745-8e18-41d26b295dda",
   "metadata": {},
   "outputs": [],
   "source": [
    "# define functions to read in data\n",
    "def hyp3_to_xarray(path):\n",
    "    # globs for data to load\n",
    "    unw_phase_glob = glob(f'{path}/*/*unw_phase.tif')\n",
    "    corr_glob = glob(f'{path}/*/*corr.tif')\n",
    "    dem_glob = glob(f'{hyp3_path}/*/*dem.tif')[0]\n",
    "    meta_glob = glob(f'{hyp3_path}/*/*meta.txt') # NEED TO ADD META TAG TO TEXT FILES\n",
    "\n",
    "    # list granules for coordinate\n",
    "    granule_list = [os.path.split(path)[-1][0:-14] for path in unw_phase_glob]\n",
    "\n",
    "    # read metadata into dictionaries\n",
    "    meta_list = []\n",
    "    for i, path in enumerate(meta_glob):\n",
    "        d = {}\n",
    "        with open(meta_glob[0]) as f:\n",
    "            for line in f:\n",
    "                (key, val) = line.split(':')\n",
    "                d[key] = str.strip(val)\n",
    "        meta_list.append(d)\n",
    "\n",
    "    # read unw_phase into data arrays and assign coordinates\n",
    "    da_list = []\n",
    "    for i, path in enumerate(unw_phase_glob):\n",
    "        da = xr.open_dataset(path)\n",
    "        for item in meta_list[i].keys():\n",
    "            da = da.assign_coords({'granule':('granule', [granule_list[i]])})\n",
    "            da = da.assign_coords({item:('granule', [meta_list[i][item]])})\n",
    "        da_list.append(da)\n",
    "    ds = xr.concat(da_list, dim='granule')\n",
    "\n",
    "    ds = ds.rename({'band_data': 'unw_phase'})\n",
    "    corr_ds = xr.concat([xr.open_dataset(f) for f in unw_phase_glob], dim=granule_list)\n",
    "    dem_ds = xr.open_dataset(dem_glob)\n",
    "\n",
    "    ds['coherence'] = (('granule', 'band', 'y', 'x'), corr_ds.band_data.values)\n",
    "    ds['elevation'] = (('band', 'y', 'x'), dem_ds.band_data.values)\n",
    "\n",
    "    ds = ds.squeeze()\n",
    "\n",
    "    return ds"
   ]
  },
  {
   "cell_type": "code",
   "execution_count": 13,
   "id": "505d481b-28dc-4744-acbd-883e728cd1f3",
   "metadata": {},
   "outputs": [],
   "source": [
    "ds = hyp3_to_xarray(hyp3_path)"
   ]
  }
 ],
 "metadata": {
  "kernelspec": {
   "display_name": "Python [conda env:gda] *",
   "language": "python",
   "name": "conda-env-gda-py"
  },
  "language_info": {
   "codemirror_mode": {
    "name": "ipython",
    "version": 3
   },
   "file_extension": ".py",
   "mimetype": "text/x-python",
   "name": "python",
   "nbconvert_exporter": "python",
   "pygments_lexer": "ipython3",
   "version": "3.8.16"
  }
 },
 "nbformat": 4,
 "nbformat_minor": 5
}
